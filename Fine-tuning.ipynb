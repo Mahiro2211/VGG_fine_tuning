{
 "cells": [
  {
   "cell_type": "code",
   "execution_count": 2,
   "id": "87768c11",
   "metadata": {},
   "outputs": [],
   "source": [
    "import numpy as np\n",
    "import random\n",
    "\n",
    "import torch\n",
    "import torch.nn as nn\n",
    "import torch.optim as optim\n",
    "\n",
    "from torchvision import models\n",
    "\n",
    "from tqdm import tqdm\n",
    "import os\n",
    "os.environ[\"KMP_DUPLICATE_LIB_OK\"]  =  \"TRUE\"\n",
    "from transfer_recognition import ImageTransform , make_datapath_list , HymenopteraDataset"
   ]
  },
  {
   "cell_type": "code",
   "execution_count": 3,
   "id": "3a2d0f90",
   "metadata": {},
   "outputs": [
    {
     "name": "stdout",
     "output_type": "stream",
     "text": [
      "./data/hymenoptera_data/train/**/*.jpg\n",
      "./data/hymenoptera_data/val/**/*.jpg\n"
     ]
    }
   ],
   "source": [
    "\n",
    "train_list = make_datapath_list(phase=\"train\")\n",
    "val_list = make_datapath_list(phase=\"val\")\n",
    "\n",
    "size = 224\n",
    "mean = (0.485, 0.456, 0.406)\n",
    "std = (0.229, 0.224, 0.225)\n",
    "train_dataset = HymenopteraDataset(\n",
    "    file_list=train_list, transform=ImageTransform(size, mean, std), phase='train')\n",
    "\n",
    "val_dataset = HymenopteraDataset(\n",
    "    file_list=val_list, transform=ImageTransform(size, mean, std), phase='val')\n",
    "\n",
    "batch_size = 8\n",
    "\n",
    "train_dataloader = torch.utils.data.DataLoader(\n",
    "    train_dataset, batch_size=batch_size, shuffle=True)\n",
    "\n",
    "val_dataloader = torch.utils.data.DataLoader(\n",
    "    val_dataset, batch_size=batch_size, shuffle=False)\n",
    "\n",
    "dataloaders_dict = {\"train\": train_dataloader, \"val\": val_dataloader}"
   ]
  },
  {
   "cell_type": "code",
   "execution_count": null,
   "id": "b759f5c8",
   "metadata": {},
   "outputs": [],
   "source": []
  },
  {
   "cell_type": "code",
   "execution_count": 4,
   "id": "46f61a86",
   "metadata": {},
   "outputs": [],
   "source": [
    "\n",
    "use_pretrained = True  \n",
    "net = models.vgg16(pretrained=use_pretrained)\n",
    "net.classifier[6] = nn.Linear(in_features=4096, out_features=2)\n",
    "net.train()\n",
    "criterion = nn.CrossEntropyLoss()"
   ]
  },
  {
   "cell_type": "code",
   "execution_count": 5,
   "id": "00ef02cc",
   "metadata": {},
   "outputs": [
    {
     "name": "stdout",
     "output_type": "stream",
     "text": [
      "params_to_update_1保存： features.0.weight\n",
      "params_to_update_1保存： features.0.bias\n",
      "params_to_update_1保存： features.2.weight\n",
      "params_to_update_1保存： features.2.bias\n",
      "params_to_update_1保存： features.5.weight\n",
      "params_to_update_1保存： features.5.bias\n",
      "params_to_update_1保存： features.7.weight\n",
      "params_to_update_1保存： features.7.bias\n",
      "params_to_update_1保存： features.10.weight\n",
      "params_to_update_1保存： features.10.bias\n",
      "params_to_update_1保存： features.12.weight\n",
      "params_to_update_1保存： features.12.bias\n",
      "params_to_update_1保存： features.14.weight\n",
      "params_to_update_1保存： features.14.bias\n",
      "params_to_update_1保存： features.17.weight\n",
      "params_to_update_1保存： features.17.bias\n",
      "params_to_update_1保存： features.19.weight\n",
      "params_to_update_1保存： features.19.bias\n",
      "params_to_update_1保存： features.21.weight\n",
      "params_to_update_1保存： features.21.bias\n",
      "params_to_update_1保存： features.24.weight\n",
      "params_to_update_1保存： features.24.bias\n",
      "params_to_update_1保存： features.26.weight\n",
      "params_to_update_1保存： features.26.bias\n",
      "params_to_update_1保存： features.28.weight\n",
      "params_to_update_1保存： features.28.bias\n",
      "params_to_update_2保存： classifier.0.weight\n",
      "params_to_update_2保存： classifier.0.bias\n",
      "params_to_update_2保存： classifier.3.weight\n",
      "params_to_update_2保存： classifier.3.bias\n",
      "params_to_update_3保存： classifier.6.weight\n",
      "params_to_update_3保存： classifier.6.bias\n",
      "params_to_update_1保存： features.0.weight\n",
      "params_to_update_1保存： features.0.bias\n",
      "params_to_update_1保存： features.2.weight\n",
      "params_to_update_1保存： features.2.bias\n",
      "params_to_update_1保存： features.5.weight\n",
      "params_to_update_1保存： features.5.bias\n",
      "params_to_update_1保存： features.7.weight\n",
      "params_to_update_1保存： features.7.bias\n",
      "params_to_update_1保存： features.10.weight\n",
      "params_to_update_1保存： features.10.bias\n",
      "params_to_update_1保存： features.12.weight\n",
      "params_to_update_1保存： features.12.bias\n",
      "params_to_update_1保存： features.14.weight\n",
      "params_to_update_1保存： features.14.bias\n",
      "params_to_update_1保存： features.17.weight\n",
      "params_to_update_1保存： features.17.bias\n",
      "params_to_update_1保存： features.19.weight\n",
      "params_to_update_1保存： features.19.bias\n",
      "params_to_update_1保存： features.21.weight\n",
      "params_to_update_1保存： features.21.bias\n",
      "params_to_update_1保存： features.24.weight\n",
      "params_to_update_1保存： features.24.bias\n",
      "params_to_update_1保存： features.26.weight\n",
      "params_to_update_1保存： features.26.bias\n",
      "params_to_update_1保存： features.28.weight\n",
      "params_to_update_1保存： features.28.bias\n",
      "params_to_update_2保存： classifier.0.weight\n",
      "params_to_update_2保存： classifier.0.bias\n",
      "params_to_update_2保存： classifier.3.weight\n",
      "params_to_update_2保存： classifier.3.bias\n",
      "params_to_update_3保存： classifier.6.weight\n",
      "params_to_update_3保存： classifier.6.bias\n"
     ]
    }
   ],
   "source": [
    "# 微调中需要学习的参数保存到下面三个列表中\n",
    "\n",
    "params_to_update_1 = []\n",
    "params_to_update_2 = []\n",
    "params_to_update_3 = []\n",
    "\n",
    "# 需要学习的网络层\n",
    "update_param_names_1 = [\"features\"]\n",
    "update_param_names_2 = [\"classifier.0.weight\",\n",
    "                        \"classifier.0.bias\", \"classifier.3.weight\", \"classifier.3.bias\"]\n",
    "update_param_names_3 = [\"classifier.6.weight\", \"classifier.6.bias\"]\n",
    "\n",
    "# 打开对应网络层的梯度计算\n",
    "for name, param in net.named_parameters():\n",
    "    if update_param_names_1[0] in name:\n",
    "        param.requires_grad = True\n",
    "        params_to_update_1.append(param)\n",
    "        print(\"params_to_update_1保存：\", name)\n",
    "\n",
    "    elif name in update_param_names_2:\n",
    "        param.requires_grad = True\n",
    "        params_to_update_2.append(param)\n",
    "        print(\"params_to_update_2保存：\", name)\n",
    "\n",
    "    elif name in update_param_names_3:\n",
    "        param.requires_grad = True\n",
    "        params_to_update_3.append(param)\n",
    "        print(\"params_to_update_3保存：\", name)\n",
    "\n",
    "    else:\n",
    "        param.requires_grad = False\n",
    "        print(\"不进行计算梯度，我们不学习这层\", name)\n",
    "# 微调中需要学习的参数保存到下面三个列表中\n",
    "\n",
    "params_to_update_1 = []\n",
    "params_to_update_2 = []\n",
    "params_to_update_3 = []\n",
    "\n",
    "# 需要学习的网络层\n",
    "update_param_names_1 = [\"features\"]\n",
    "update_param_names_2 = [\"classifier.0.weight\",\n",
    "                        \"classifier.0.bias\", \"classifier.3.weight\", \"classifier.3.bias\"]\n",
    "update_param_names_3 = [\"classifier.6.weight\", \"classifier.6.bias\"]\n",
    "\n",
    "# 打开对应网络层的梯度计算\n",
    "for name, param in net.named_parameters():\n",
    "    if update_param_names_1[0] in name:\n",
    "        param.requires_grad = True\n",
    "        params_to_update_1.append(param)\n",
    "        print(\"params_to_update_1保存：\", name)\n",
    "\n",
    "    elif name in update_param_names_2:\n",
    "        param.requires_grad = True\n",
    "        params_to_update_2.append(param)\n",
    "        print(\"params_to_update_2保存：\", name)\n",
    "\n",
    "    elif name in update_param_names_3:\n",
    "        param.requires_grad = True\n",
    "        params_to_update_3.append(param)\n",
    "        print(\"params_to_update_3保存：\", name)\n",
    "\n",
    "    else:\n",
    "        param.requires_grad = False\n",
    "        print(\"不进行计算梯度，我们不学习这层\", name)\n"
   ]
  },
  {
   "cell_type": "code",
   "execution_count": 6,
   "id": "35bdcc74",
   "metadata": {},
   "outputs": [],
   "source": [
    "optimizer = optim.SGD([\n",
    "    {'params': params_to_update_1, 'lr': 1e-4},\n",
    "    {'params': params_to_update_2, 'lr': 5e-4},\n",
    "    {'params': params_to_update_3, 'lr': 1e-3}\n",
    "], momentum=0.9)"
   ]
  },
  {
   "cell_type": "code",
   "execution_count": 7,
   "id": "c3df44cd",
   "metadata": {},
   "outputs": [],
   "source": [
    "def train_model(net, dataloaders_dict, criterion, optimizer, num_epochs):\n",
    "\n",
    "    \n",
    "    device = torch.device(\"cuda:0\" if torch.cuda.is_available() else \"cpu\")\n",
    "    print(\"使用的设备是：\", device)\n",
    "\n",
    "   \n",
    "    net.to(device)  \n",
    "    torch.backends.cudnn.benchmark = True\n",
    "\n",
    "\n",
    "    for epoch in range(num_epochs):\n",
    "        print('Epoch {}/{}'.format(epoch+1, num_epochs))\n",
    "        print('-------------')\n",
    "\n",
    "        for phase in ['train', 'val']:\n",
    "            if phase == 'train':\n",
    "                net.train()  \n",
    "            else:\n",
    "                net.eval()   \n",
    "\n",
    "            epoch_loss = 0.0  \n",
    "            epoch_corrects = 0 \n",
    "\n",
    "         \n",
    "            if (epoch == 0) and (phase == 'train'):\n",
    "                continue\n",
    "\n",
    "        \n",
    "            for inputs, labels in tqdm(dataloaders_dict[phase]):\n",
    "\n",
    "          \n",
    "                inputs = inputs.to(device)\n",
    "                labels = labels.to(device)\n",
    "\n",
    "               \n",
    "                optimizer.zero_grad()\n",
    "\n",
    "               \n",
    "                with torch.set_grad_enabled(phase == 'train'):\n",
    "                    outputs = net(inputs)\n",
    "                    loss = criterion(outputs, labels)  \n",
    "                    _, preds = torch.max(outputs, 1)\n",
    "\n",
    "  \n",
    "                    if phase == 'train':\n",
    "                        loss.backward()\n",
    "                        optimizer.step()\n",
    "\n",
    "      \n",
    "                    epoch_loss += loss.item() * inputs.size(0)  \n",
    "  \n",
    "                    epoch_corrects += torch.sum(preds == labels.data)\n",
    "\n",
    "     \n",
    "            epoch_loss = epoch_loss / len(dataloaders_dict[phase].dataset)\n",
    "            epoch_acc = epoch_corrects.double(\n",
    "            ) / len(dataloaders_dict[phase].dataset)\n",
    "\n",
    "            print('{} Loss: {:.4f} Acc: {:.4f}'.format(\n",
    "                phase, epoch_loss, epoch_acc))\n"
   ]
  },
  {
   "cell_type": "code",
   "execution_count": 8,
   "id": "1a5457bd",
   "metadata": {},
   "outputs": [],
   "source": [
    "torch.cuda.empty_cache()"
   ]
  },
  {
   "cell_type": "code",
   "execution_count": 9,
   "id": "006f95be",
   "metadata": {},
   "outputs": [
    {
     "name": "stdout",
     "output_type": "stream",
     "text": [
      "使用的设备是： cuda:0\n",
      "Epoch 1/2\n",
      "-------------\n"
     ]
    },
    {
     "name": "stderr",
     "output_type": "stream",
     "text": [
      "100%|██████████| 20/20 [00:06<00:00,  3.14it/s]\n"
     ]
    },
    {
     "name": "stdout",
     "output_type": "stream",
     "text": [
      "val Loss: 0.6745 Acc: 0.5752\n",
      "Epoch 2/2\n",
      "-------------\n"
     ]
    },
    {
     "name": "stderr",
     "output_type": "stream",
     "text": [
      "100%|██████████| 31/31 [00:11<00:00,  2.77it/s]\n"
     ]
    },
    {
     "name": "stdout",
     "output_type": "stream",
     "text": [
      "train Loss: 0.2741 Acc: 0.8683\n"
     ]
    },
    {
     "name": "stderr",
     "output_type": "stream",
     "text": [
      "100%|██████████| 20/20 [00:02<00:00,  7.53it/s]"
     ]
    },
    {
     "name": "stdout",
     "output_type": "stream",
     "text": [
      "val Loss: 0.1057 Acc: 0.9608\n"
     ]
    },
    {
     "name": "stderr",
     "output_type": "stream",
     "text": [
      "\n"
     ]
    }
   ],
   "source": [
    "num_epochs=2\n",
    "train_model(net, dataloaders_dict, criterion, optimizer, num_epochs=num_epochs)"
   ]
  },
  {
   "cell_type": "code",
   "execution_count": null,
   "id": "05e6a6ea",
   "metadata": {},
   "outputs": [],
   "source": []
  }
 ],
 "metadata": {
  "kernelspec": {
   "display_name": "D2l_env",
   "language": "python",
   "name": "douhuanmin"
  },
  "language_info": {
   "codemirror_mode": {
    "name": "ipython",
    "version": 3
   },
   "file_extension": ".py",
   "mimetype": "text/x-python",
   "name": "python",
   "nbconvert_exporter": "python",
   "pygments_lexer": "ipython3",
   "version": "3.10.11"
  }
 },
 "nbformat": 4,
 "nbformat_minor": 5
}
